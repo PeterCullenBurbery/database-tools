{
  "nbformat": 4,
  "nbformat_minor": 0,
  "metadata": {
    "colab": {
      "provenance": [],
      "authorship_tag": "ABX9TyO5UF/y10dhPPnZngicnTTL",
      "include_colab_link": true
    },
    "kernelspec": {
      "name": "python3",
      "display_name": "Python 3"
    },
    "language_info": {
      "name": "python"
    }
  },
  "cells": [
    {
      "cell_type": "markdown",
      "metadata": {
        "id": "view-in-github",
        "colab_type": "text"
      },
      "source": [
        "<a href=\"https://colab.research.google.com/github/PeterCullenBurbery/database-tools/blob/main/Database_functions.ipynb\" target=\"_parent\"><img src=\"https://colab.research.google.com/assets/colab-badge.svg\" alt=\"Open In Colab\"/></a>"
      ]
    },
    {
      "cell_type": "code",
      "execution_count": 1,
      "metadata": {
        "colab": {
          "base_uri": "https://localhost:8080/"
        },
        "id": "6majQEgWXk8v",
        "outputId": "fd34c9c5-7a69-4cd9-8b77-4bd597cc6e58"
      },
      "outputs": [
        {
          "output_type": "stream",
          "name": "stdout",
          "text": [
            "DOG_CAT_BIRD\n"
          ]
        }
      ],
      "source": [
        "def transform_string(input_string):\n",
        "    return input_string.replace(' ', '_').upper()\n",
        "\n",
        "# Example usage:\n",
        "result = transform_string(\"dog cat bird\")\n",
        "print(result)  # Output: DOG_CAT_BIRD"
      ]
    },
    {
      "cell_type": "code",
      "source": [
        "def many_to_many_name(str1, str2):\n",
        "    transformed_str1 = str1.replace(' ', '_').upper()\n",
        "    transformed_str2 = str2.replace(' ', '_').upper()\n",
        "    return f\"{transformed_str1}_HAS_AND_BELONGS_TO_MANY_{transformed_str2}\"\n",
        "\n",
        "# Example usage:\n",
        "result = many_to_many_name(\"cat dog bird\", \"pizza donut car\")\n",
        "print(result)  # Output: DOG_CAT_BIRD_HAS_AND_BELONGS_TO_MANY_PIZZA_DONUT_CAR"
      ],
      "metadata": {
        "colab": {
          "base_uri": "https://localhost:8080/"
        },
        "id": "_-30yAJCYcvw",
        "outputId": "8b313d3a-ae81-4254-cab0-a7a268eebaa6"
      },
      "execution_count": 3,
      "outputs": [
        {
          "output_type": "stream",
          "name": "stdout",
          "text": [
            "CAT_DOG_BIRD_HAS_AND_BELONGS_TO_MANY_PIZZA_DONUT_CAR\n"
          ]
        }
      ]
    },
    {
      "cell_type": "code",
      "source": [
        "def many_to_many_DDL(str1, str2):\n",
        "    # Transform the strings\n",
        "    transformed_str1 = str1.replace(' ', '_').upper()\n",
        "    transformed_str2 = str2.replace(' ', '_').upper()\n",
        "    table_name = f\"{transformed_str1}_HAS_AND_BELONGS_TO_MANY_{transformed_str2}\"\n",
        "\n",
        "    # Create the DDL statement\n",
        "    ddl = f\"\"\"\n",
        "CREATE TABLE {table_name} (\n",
        "    {table_name}_ID RAW(16) DEFAULT sys_guID() PRIMARY KEY,\n",
        "    {table_name} VARCHAR2(1000) NOT NULL,\n",
        "    CONSTRAINT unique_joining_table_of_student_and_course UNIQUE ({table_name}),\n",
        "    -- the not null constraint is important\n",
        "    {transformed_str1}_ID RAW(16) NOT NULL,\n",
        "    {transformed_str2}_ID RAW(16) NOT NULL,\n",
        "    -- we add 2 foreign key constraints for many-to-many relationship\n",
        "    FOREIGN KEY ({transformed_str1}_ID)\n",
        "        REFERENCES {transformed_str1} ({transformed_str1}_ID),\n",
        "    FOREIGN KEY ({transformed_str2}_ID)\n",
        "        REFERENCES {transformed_str2} ({transformed_str2}_ID),\n",
        "    -- we add a unique constraint\n",
        "    UNIQUE ({transformed_str1}_ID, {transformed_str2}_ID),\n",
        "    -- Additional columns for note and dates\n",
        "    note VARCHAR2(4000),  -- General-purpose note field\n",
        "    date_created TIMESTAMP(9) WITH TIME ZONE DEFAULT systimestamp(9) NOT NULL,\n",
        "    date_updated TIMESTAMP(9) WITH TIME ZONE,\n",
        "    date_created_or_updated TIMESTAMP(9) WITH TIME ZONE GENERATED ALWAYS AS (\n",
        "        COALESCE(date_updated, date_created)\n",
        "    ) VIRTUAL\n",
        ");\n",
        "\n",
        "CREATE OR REPLACE TRIGGER trigger_set_date_updated_{table_name}\n",
        "BEFORE UPDATE ON {table_name}\n",
        "FOR EACH ROW\n",
        "BEGIN\n",
        "    :new.date_updated := systimestamp;\n",
        "END;\n",
        "/\"\"\"\n",
        "    return ddl\n",
        "\n",
        "# Example usage:\n",
        "result = many_to_many_DDL(\"cat dog bird\", \"pizza donut car\")\n",
        "print(result)\n"
      ],
      "metadata": {
        "colab": {
          "base_uri": "https://localhost:8080/"
        },
        "id": "1iGA302OY5yq",
        "outputId": "12e653eb-d4b8-4be1-db65-016c75a1d545"
      },
      "execution_count": 4,
      "outputs": [
        {
          "output_type": "stream",
          "name": "stdout",
          "text": [
            "\n",
            "CREATE TABLE CAT_DOG_BIRD_HAS_AND_BELONGS_TO_MANY_PIZZA_DONUT_CAR (\n",
            "    CAT_DOG_BIRD_HAS_AND_BELONGS_TO_MANY_PIZZA_DONUT_CAR_ID RAW(16) DEFAULT sys_guID() PRIMARY KEY,\n",
            "    CAT_DOG_BIRD_HAS_AND_BELONGS_TO_MANY_PIZZA_DONUT_CAR VARCHAR2(1000) NOT NULL,\n",
            "    CONSTRAINT unique_joining_table_of_student_and_course UNIQUE (CAT_DOG_BIRD_HAS_AND_BELONGS_TO_MANY_PIZZA_DONUT_CAR),\n",
            "    -- the not null constraint is important\n",
            "    CAT_DOG_BIRD_ID RAW(16) NOT NULL,\n",
            "    PIZZA_DONUT_CAR_ID RAW(16) NOT NULL,\n",
            "    -- we add 2 foreign key constraints for many-to-many relationship\n",
            "    FOREIGN KEY (CAT_DOG_BIRD_ID)\n",
            "        REFERENCES CAT_DOG_BIRD (CAT_DOG_BIRD_ID),\n",
            "    FOREIGN KEY (PIZZA_DONUT_CAR_ID)\n",
            "        REFERENCES PIZZA_DONUT_CAR (PIZZA_DONUT_CAR_ID),\n",
            "    -- we add a unique constraint\n",
            "    UNIQUE (CAT_DOG_BIRD_ID, PIZZA_DONUT_CAR_ID),\n",
            "    -- Additional columns for note and dates\n",
            "    note VARCHAR2(4000),  -- General-purpose note field\n",
            "    date_created TIMESTAMP(9) WITH TIME ZONE DEFAULT systimestamp(9) NOT NULL,\n",
            "    date_updated TIMESTAMP(9) WITH TIME ZONE,\n",
            "    date_created_or_updated TIMESTAMP(9) WITH TIME ZONE GENERATED ALWAYS AS (\n",
            "        COALESCE(date_updated, date_created)\n",
            "    ) VIRTUAL\n",
            ");\n",
            "\n",
            "CREATE OR REPLACE TRIGGER trigger_set_date_updated_CAT_DOG_BIRD_HAS_AND_BELONGS_TO_MANY_PIZZA_DONUT_CAR\n",
            "BEFORE UPDATE ON CAT_DOG_BIRD_HAS_AND_BELONGS_TO_MANY_PIZZA_DONUT_CAR\n",
            "FOR EACH ROW\n",
            "BEGIN\n",
            "    :new.date_updated := systimestamp;\n",
            "END;\n",
            "/\n"
          ]
        }
      ]
    },
    {
      "cell_type": "code",
      "source": [
        "# Example usage:\n",
        "result = many_to_many_DDL(\"use case for joining\", \"database statement for joining\")\n",
        "print(result)"
      ],
      "metadata": {
        "colab": {
          "base_uri": "https://localhost:8080/"
        },
        "id": "zZF0D9swbdF4",
        "outputId": "7c36cb11-b32e-465c-a979-1d5154e6fb95"
      },
      "execution_count": 5,
      "outputs": [
        {
          "output_type": "stream",
          "name": "stdout",
          "text": [
            "\n",
            "CREATE TABLE USE_CASE_FOR_JOINING_HAS_AND_BELONGS_TO_MANY_DATABASE_STATEMENT_FOR_JOINING (\n",
            "    USE_CASE_FOR_JOINING_HAS_AND_BELONGS_TO_MANY_DATABASE_STATEMENT_FOR_JOINING_ID RAW(16) DEFAULT sys_guID() PRIMARY KEY,\n",
            "    USE_CASE_FOR_JOINING_HAS_AND_BELONGS_TO_MANY_DATABASE_STATEMENT_FOR_JOINING VARCHAR2(1000) NOT NULL,\n",
            "    CONSTRAINT unique_joining_table_of_student_and_course UNIQUE (USE_CASE_FOR_JOINING_HAS_AND_BELONGS_TO_MANY_DATABASE_STATEMENT_FOR_JOINING),\n",
            "    -- the not null constraint is important\n",
            "    USE_CASE_FOR_JOINING_ID RAW(16) NOT NULL,\n",
            "    DATABASE_STATEMENT_FOR_JOINING_ID RAW(16) NOT NULL,\n",
            "    -- we add 2 foreign key constraints for many-to-many relationship\n",
            "    FOREIGN KEY (USE_CASE_FOR_JOINING_ID)\n",
            "        REFERENCES USE_CASE_FOR_JOINING (USE_CASE_FOR_JOINING_ID),\n",
            "    FOREIGN KEY (DATABASE_STATEMENT_FOR_JOINING_ID)\n",
            "        REFERENCES DATABASE_STATEMENT_FOR_JOINING (DATABASE_STATEMENT_FOR_JOINING_ID),\n",
            "    -- we add a unique constraint\n",
            "    UNIQUE (USE_CASE_FOR_JOINING_ID, DATABASE_STATEMENT_FOR_JOINING_ID),\n",
            "    -- Additional columns for note and dates\n",
            "    note VARCHAR2(4000),  -- General-purpose note field\n",
            "    date_created TIMESTAMP(9) WITH TIME ZONE DEFAULT systimestamp(9) NOT NULL,\n",
            "    date_updated TIMESTAMP(9) WITH TIME ZONE,\n",
            "    date_created_or_updated TIMESTAMP(9) WITH TIME ZONE GENERATED ALWAYS AS (\n",
            "        COALESCE(date_updated, date_created)\n",
            "    ) VIRTUAL\n",
            ");\n",
            "\n",
            "CREATE OR REPLACE TRIGGER trigger_set_date_updated_USE_CASE_FOR_JOINING_HAS_AND_BELONGS_TO_MANY_DATABASE_STATEMENT_FOR_JOINING\n",
            "BEFORE UPDATE ON USE_CASE_FOR_JOINING_HAS_AND_BELONGS_TO_MANY_DATABASE_STATEMENT_FOR_JOINING\n",
            "FOR EACH ROW\n",
            "BEGIN\n",
            "    :new.date_updated := systimestamp;\n",
            "END;\n",
            "/\n"
          ]
        }
      ]
    },
    {
      "cell_type": "code",
      "source": [
        "def many_to_many_file_name(str1, str2):\n",
        "    transformed_str1 = str1.replace(' ', '-').upper()\n",
        "    transformed_str2 = str2.replace(' ', '-').upper()\n",
        "    return f\"{transformed_str1}-HAS-AND-BELONGS-TO-MANY-{transformed_str2}\"\n",
        "\n",
        "# Example usage:\n",
        "result = many_to_many_file_name(\"cat dog bird\", \"pizza donut car\")\n",
        "print(result)  # Output: DOG_CAT_BIRD_HAS_AND_BELONGS_TO_MANY_PIZZA_DONUT_CAR"
      ],
      "metadata": {
        "colab": {
          "base_uri": "https://localhost:8080/"
        },
        "id": "M8_ezqL2cBKT",
        "outputId": "e2ddba31-cf9f-493d-ed44-218ff5a6f583"
      },
      "execution_count": 9,
      "outputs": [
        {
          "output_type": "stream",
          "name": "stdout",
          "text": [
            "CAT-DOG-BIRD-HAS-AND-BELONGS-TO-MANY-PIZZA-DONUT-CAR\n"
          ]
        }
      ]
    },
    {
      "cell_type": "code",
      "source": [
        "# Example usage:\n",
        "result = many_to_many_file_name(\"use case for joining\", \"database statement for joining\")\n",
        "print(result)"
      ],
      "metadata": {
        "colab": {
          "base_uri": "https://localhost:8080/"
        },
        "id": "fsnUbbWccFCS",
        "outputId": "b27f3157-9283-4f3a-bc89-c5d4bc64033f"
      },
      "execution_count": 11,
      "outputs": [
        {
          "output_type": "stream",
          "name": "stdout",
          "text": [
            "USE-CASE-FOR-JOINING-HAS-AND-BELONGS-TO-MANY-DATABASE-STATEMENT-FOR-JOINING\n"
          ]
        }
      ]
    }
  ]
}