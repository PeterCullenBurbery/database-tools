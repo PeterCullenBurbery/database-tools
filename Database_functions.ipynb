{
  "nbformat": 4,
  "nbformat_minor": 0,
  "metadata": {
    "colab": {
      "provenance": [],
      "authorship_tag": "ABX9TyPvH2d4/Y6KRtQL1Mdr/Ozb",
      "include_colab_link": true
    },
    "kernelspec": {
      "name": "python3",
      "display_name": "Python 3"
    },
    "language_info": {
      "name": "python"
    }
  },
  "cells": [
    {
      "cell_type": "markdown",
      "metadata": {
        "id": "view-in-github",
        "colab_type": "text"
      },
      "source": [
        "<a href=\"https://colab.research.google.com/github/PeterCullenBurbery/database-tools/blob/main/Database_functions.ipynb\" target=\"_parent\"><img src=\"https://colab.research.google.com/assets/colab-badge.svg\" alt=\"Open In Colab\"/></a>"
      ]
    },
    {
      "cell_type": "code",
      "execution_count": 1,
      "metadata": {
        "colab": {
          "base_uri": "https://localhost:8080/"
        },
        "id": "6majQEgWXk8v",
        "outputId": "fd34c9c5-7a69-4cd9-8b77-4bd597cc6e58"
      },
      "outputs": [
        {
          "output_type": "stream",
          "name": "stdout",
          "text": [
            "DOG_CAT_BIRD\n"
          ]
        }
      ],
      "source": [
        "def transform_string(input_string):\n",
        "    return input_string.replace(' ', '_').upper()\n",
        "\n",
        "# Example usage:\n",
        "result = transform_string(\"dog cat bird\")\n",
        "print(result)  # Output: DOG_CAT_BIRD"
      ]
    },
    {
      "cell_type": "code",
      "source": [
        "def many_to_many(str1, str2):\n",
        "    transformed_str1 = str1.replace(' ', '_').upper()\n",
        "    transformed_str2 = str2.replace(' ', '_').upper()\n",
        "    return f\"{transformed_str1}_HAS_AND_BELONGS_TO_MANY_{transformed_str2}\"\n",
        "\n",
        "# Example usage:\n",
        "result = many_to_many(\"cat dog bird\", \"pizza donut car\")\n",
        "print(result)  # Output: DOG_CAT_BIRD_HAS_AND_BELONGS_TO_MANY_PIZZA_DONUT_CAR"
      ],
      "metadata": {
        "colab": {
          "base_uri": "https://localhost:8080/"
        },
        "id": "_-30yAJCYcvw",
        "outputId": "963af46c-a863-441a-ad86-a3a94cdecce0"
      },
      "execution_count": 2,
      "outputs": [
        {
          "output_type": "stream",
          "name": "stdout",
          "text": [
            "CAT_DOG_BIRD_HAS_AND_BELONGS_TO_MANY_PIZZA_DONUT_CAR\n"
          ]
        }
      ]
    },
    {
      "cell_type": "code",
      "source": [],
      "metadata": {
        "id": "1iGA302OY5yq"
      },
      "execution_count": null,
      "outputs": []
    }
  ]
}